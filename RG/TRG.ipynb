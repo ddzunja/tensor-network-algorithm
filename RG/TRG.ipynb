{
 "cells": [
  {
   "cell_type": "code",
   "execution_count": 1,
   "metadata": {},
   "outputs": [],
   "source": [
    "import numpy as np\n",
    "from numpy . linalg import svd\n",
    "from itertools import product\n",
    "\n",
    "# returns TRG - obtained partition function Z\n",
    "def Z_TRG (K, Dcut , no_iter ):\n",
    "    D = 2\n",
    "    inds = np. arange (D)\n",
    "\n",
    "    # set up initial tensor network\n",
    "    T = np. empty ([D, D, D, D])\n",
    "    for r, u, l, d in product (inds , inds , inds , inds ):\n",
    "        T[r][u][l][d] = .5*(1 + (2*r -1)*(2*u -1)*(2*l -1)*(2*d -1))* np.exp (2*K*(r+u+l+d -2))\n",
    "\n",
    "    for n in np. arange ( no_iter ):\n",
    "        D_new = min (D**2 , Dcut )\n",
    "        inds_new = np. arange ( D_new )\n",
    "\n",
    "        # perform SVD decomposition and rewiring on each sublattice\n",
    "        Ma , Mb = [np. empty ([D**2 , D **2])]*2\n",
    "        for r, u, l, d in product (inds , inds , inds , inds ):\n",
    "            Ma[l + D*u][r + D*d] = T[r][u][l][d]\n",
    "            Mb[l + D*d][r + D*u] = T[r][u][l][d]\n",
    "\n",
    "        S1 , S2 , S3 , S4 = [np. empty ([D, D, D_new ])]*4\n",
    "\n",
    "        U, L, V = svd(Ma)\n",
    "        L = np. sort (L )[:: -1][0: D_new ]\n",
    "        for x, y, m in product (inds , inds , inds_new ):\n",
    "            S1[x, y, m] = np. sqrt (L[m ])*U[x + D*y][m]\n",
    "            S3[x, y, m] = np. sqrt (L[m ])*V[m][x + D*y]\n",
    "\n",
    "        U, L, V = svd(Mb)\n",
    "        L = np. sort (L )[:: -1][0: D_new ]\n",
    "        for x, y, m in product (inds , inds , inds_new ):\n",
    "            S2[x, y, m] = np. sqrt (L[m ])*U[x + D*y][m]\n",
    "            S4[x, y, m] = np. sqrt (L[m ])*V[m][x + D*y]\n",
    "\n",
    "        # decimate extraneous , TRG - generated squares to obtain T'\n",
    "        T_new = np. empty ([ D_new , D_new , D_new , D_new ])\n",
    "\n",
    "        for r, u, l, d in product ( inds_new , inds_new , inds_new , inds_new ):\n",
    "            T_new [r][u][l][d] = 0\n",
    "            for a, b, g, w in product (inds , inds , inds , inds ):\n",
    "                T_new [r][u][l][d] += S1[w,a,r]* S2[a,b,u]* S3[b,g,l]* S4[g,w,d]\n",
    "\n",
    "        D = D_new\n",
    "        inds = inds_new\n",
    "        T = T_new\n",
    "\n",
    "    # after final TRG iteration , trace out remaining tensor to obtain Z\n",
    "    Z = 0\n",
    "    for r, u, l, d in product (inds , inds , inds , inds ):\n",
    "        Z += T[r][u][l][d]\n",
    "\n",
    "    return Z\n",
    "\n",
    "\n",
    "A = []\n",
    "B = np.linspace(0,1.6,56)\n",
    "for i in B:\n",
    "    A.append(Z_TRG(i, 6 , 3 ))"
   ]
  },
  {
   "cell_type": "code",
   "execution_count": 5,
   "metadata": {},
   "outputs": [
    {
     "data": {
      "text/plain": [
       "<matplotlib.legend.Legend at 0x1119d3048>"
      ]
     },
     "execution_count": 5,
     "metadata": {},
     "output_type": "execute_result"
    },
    {
     "data": {
      "image/png": "[encoded data removed]",
      "text/plain": [
       "<Figure size 432x288 with 1 Axes>"
      ]
     },
     "metadata": {
      "needs_background": "light"
     },
     "output_type": "display_data"
    }
   ],
   "source": [
    "import matplotlib.pyplot as plt\n",
    "plt.semilogy(B,A,'-',label='Tensor renormalization group');\n",
    "plt.xlabel('coupling constant')\n",
    "plt.ylabel('')\n",
    "plt.legend();"
   ]
  }
 ],
 "metadata": {
  "kernelspec": {
   "display_name": "Python 3",
   "language": "python",
   "name": "python3"
  },
  "language_info": {
   "codemirror_mode": {
    "name": "ipython",
    "version": 3
   },
   "file_extension": ".py",
   "mimetype": "text/x-python",
   "name": "python",
   "nbconvert_exporter": "python",
   "pygments_lexer": "ipython3",
   "version": "3.7.0"
  }
 },
 "nbformat": 4,
 "nbformat_minor": 2
}
