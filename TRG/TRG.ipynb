{
 "cells": [
  {
   "cell_type": "code",
   "execution_count": null,
   "metadata": {},
   "outputs": [],
   "source": [
    "import numpy as np\n",
    "from numpy . linalg import svd\n",
    "from itertools import product\n",
    "from TRG import Z_TRG\n",
    "\n",
    "A = []\n",
    "B = np.linspace(0,1.6,56)\n",
    "for i in B:\n",
    "    A.append(Z_TRG(i, 6 , 3 ))"
   ]
  },
  {
   "cell_type": "code",
   "execution_count": null,
   "metadata": {},
   "outputs": [],
   "source": [
    "import matplotlib.pyplot as plt\n",
    "plt.figure(figsize=[8,5])\n",
    "plt.plot(B,np.log(A),'-o',label='Tensor renormalization group');\n",
    "plt.xlabel('Coupling constant',fontsize=18)\n",
    "plt.ylabel('Free energy per unit site',fontsize=18)\n",
    "plt.legend(fontsize=16);\n",
    "plt.savefig('TRG.png')"
   ]
  }
 ],
 "metadata": {
  "kernelspec": {
   "display_name": "Python 3",
   "language": "python",
   "name": "python3"
  },
  "language_info": {
   "codemirror_mode": {
    "name": "ipython",
    "version": 3
   },
   "file_extension": ".py",
   "mimetype": "text/x-python",
   "name": "python",
   "nbconvert_exporter": "python",
   "pygments_lexer": "ipython3",
   "version": "3.7.0"
  }
 },
 "nbformat": 4,
 "nbformat_minor": 2
}
